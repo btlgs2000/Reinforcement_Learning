{
  "nbformat": 4,
  "nbformat_minor": 0,
  "metadata": {
    "colab": {
      "name": "DynamicProgrammingEsercizio.ipynb",
      "provenance": [],
      "collapsed_sections": [],
      "authorship_tag": "ABX9TyMse7HBglKgvXFNHjiUXu50",
      "include_colab_link": true
    },
    "kernelspec": {
      "name": "python3",
      "display_name": "Python 3"
    }
  },
  "cells": [
    {
      "cell_type": "markdown",
      "metadata": {
        "id": "view-in-github",
        "colab_type": "text"
      },
      "source": [
        "<a href=\"https://colab.research.google.com/github/btlgs2000/mini_degree_Reinforcement_Learning/blob/master/DynamicProgrammingEsercizio.ipynb\" target=\"_parent\"><img src=\"https://colab.research.google.com/assets/colab-badge.svg\" alt=\"Open In Colab\"/></a>"
      ]
    },
    {
      "cell_type": "code",
      "metadata": {
        "id": "b6FfOYFFMTXY"
      },
      "source": [
        "import gym\n",
        "from collections import defaultdict"
      ],
      "execution_count": 12,
      "outputs": []
    },
    {
      "cell_type": "code",
      "metadata": {
        "id": "TOYE8j8QYHS_"
      },
      "source": [
        "def get_state(observation):\n",
        "    ''' prende un'osservazione del cart pole e \n",
        "    ritorna uno stato'''\n",
        "    return tuple(int(x // 0.5) for x in observation)"
      ],
      "execution_count": 15,
      "outputs": []
    },
    {
      "cell_type": "code",
      "metadata": {
        "id": "Yc6OqTKRL4II",
        "outputId": "57c89fb3-672e-4d7a-a532-b13ee7640830",
        "colab": {
          "base_uri": "https://localhost:8080/",
          "height": 35
        }
      },
      "source": [
        "int(-3.3 // 0.5)"
      ],
      "execution_count": 77,
      "outputs": [
        {
          "output_type": "execute_result",
          "data": {
            "text/plain": [
              "-7"
            ]
          },
          "metadata": {
            "tags": []
          },
          "execution_count": 77
        }
      ]
    },
    {
      "cell_type": "code",
      "metadata": {
        "id": "9lVheQKUYzBJ"
      },
      "source": [
        "# modello\n",
        "# {s1: {a1: {s2: (prob, mean_reward)}}}\n",
        "\n",
        "# policy\n",
        "# {s: a}"
      ],
      "execution_count": 17,
      "outputs": []
    },
    {
      "cell_type": "code",
      "metadata": {
        "id": "dS3JXje4MN40"
      },
      "source": [
        ""
      ],
      "execution_count": 17,
      "outputs": []
    },
    {
      "cell_type": "code",
      "metadata": {
        "id": "K4wJK-dHZSd1"
      },
      "source": [
        "model = {1}"
      ],
      "execution_count": 58,
      "outputs": []
    },
    {
      "cell_type": "code",
      "metadata": {
        "id": "Da2dGkScZhhd"
      },
      "source": [
        "m = {}"
      ],
      "execution_count": 60,
      "outputs": []
    },
    {
      "cell_type": "code",
      "metadata": {
        "id": "JbszLC1BZtMQ"
      },
      "source": [
        "d = defaultdict(dict)"
      ],
      "execution_count": 64,
      "outputs": []
    },
    {
      "cell_type": "code",
      "metadata": {
        "id": "toa3LrtCaGf4"
      },
      "source": [
        "d[10][2] = 2"
      ],
      "execution_count": 68,
      "outputs": []
    },
    {
      "cell_type": "code",
      "metadata": {
        "id": "UOeceC2cX2l5"
      },
      "source": [
        "def build_model(num_episodes):\n",
        "    ''' costruisce un modello del cart pole\n",
        "    esplorandolo con una policy random uniforme'''\n",
        "\n",
        "    def normalize(model):\n",
        "        for state in model.keys():\n",
        "            for actio++n in model[state].keys():\n",
        "                # totale occorrenze coppia stato, azione\n",
        "                tot_freq = sum([freq for (freq, rewards_sum) in model[state][action].values()])\n",
        "                for next_state in model[state][action].keys():\n",
        "                    freq, rewards_sum = model[state][action][next_state]\n",
        "                    model[state][action][next_state] = freq / tot_freq, rewards_sum / freq\n",
        "        return model\n",
        "\n",
        "    model = defaultdict(lambda: defaultdict(lambda: defaultdict(lambda: (0, 0))))\n",
        "    env = gym.make('CartPole-v0')\n",
        "    for _ in range(num_episodes):\n",
        "        done = False\n",
        "        obs = env.reset()\n",
        "        while not done:\n",
        "            state = get_state(obs)\n",
        "            action = env.action_space.sample()\n",
        "            obs, rew, done, info = env.step(action)\n",
        "            next_state = get_state(obs)\n",
        "            freq, rewards_sum = model[state][action][next_state]\n",
        "            model[state][action][next_state] = freq + 1, rewards_sum + rew\n",
        "\n",
        "    model = normalize(model)\n",
        "\n",
        "    return model"
      ],
      "execution_count": 54,
      "outputs": []
    },
    {
      "cell_type": "code",
      "metadata": {
        "id": "Qa3R3NmSajq5"
      },
      "source": [
        "def get_policy_v_value(model, policy):\n",
        "    ''' policy evaluation'''\n",
        "    return v_policy"
      ],
      "execution_count": null,
      "outputs": []
    },
    {
      "cell_type": "code",
      "metadata": {
        "id": "yZ9votBLfJ3V"
      },
      "source": [
        "def get_policy_from_v_value(model, v_value):\n",
        "    ''' policy improvement'''\n",
        "    return policy"
      ],
      "execution_count": null,
      "outputs": []
    },
    {
      "cell_type": "code",
      "metadata": {
        "id": "P4QKFUDJfdZf"
      },
      "source": [
        "def policy_iteration(model, initial_policy):\n",
        "    return policy"
      ],
      "execution_count": null,
      "outputs": []
    },
    {
      "cell_type": "code",
      "metadata": {
        "id": "AtEhmfjVfgt5"
      },
      "source": [
        "def value_iteration(model, initial_policy):\n",
        "    return v_best"
      ],
      "execution_count": null,
      "outputs": []
    }
  ]
}