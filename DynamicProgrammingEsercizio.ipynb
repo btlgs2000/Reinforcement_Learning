{
  "nbformat": 4,
  "nbformat_minor": 0,
  "metadata": {
    "colab": {
      "name": "DynamicProgrammingEsercizio.ipynb",
      "provenance": [],
      "authorship_tag": "ABX9TyP67yqu9nOe58RrlKledOQI",
      "include_colab_link": true
    },
    "kernelspec": {
      "name": "python3",
      "display_name": "Python 3"
    }
  },
  "cells": [
    {
      "cell_type": "markdown",
      "metadata": {
        "id": "view-in-github",
        "colab_type": "text"
      },
      "source": [
        "<a href=\"https://colab.research.google.com/github/btlgs2000/mini_degree_Reinforcement_Learning/blob/master/DynamicProgrammingEsercizio.ipynb\" target=\"_parent\"><img src=\"https://colab.research.google.com/assets/colab-badge.svg\" alt=\"Open In Colab\"/></a>"
      ]
    },
    {
      "cell_type": "code",
      "metadata": {
        "id": "TOYE8j8QYHS_"
      },
      "source": [
        "def get_state(observation):\n",
        "    ''' prende un'osservazione del cart pole e \n",
        "    ritorna uno stato'''\n",
        "    return state"
      ],
      "execution_count": null,
      "outputs": []
    },
    {
      "cell_type": "code",
      "metadata": {
        "id": "9lVheQKUYzBJ"
      },
      "source": [
        "# modello\n",
        "# {s1: {a1: {s2: (prob, mean_reward)}}}\n",
        "\n",
        "# policy\n",
        "# {s: a}"
      ],
      "execution_count": null,
      "outputs": []
    },
    {
      "cell_type": "code",
      "metadata": {
        "id": "UOeceC2cX2l5"
      },
      "source": [
        "def build_model(num_episodes):\n",
        "    ''' costruisce un modello del cart pole\n",
        "    esplorandolo con una policy random uniforme'''\n",
        "    return model"
      ],
      "execution_count": null,
      "outputs": []
    },
    {
      "cell_type": "code",
      "metadata": {
        "id": "Qa3R3NmSajq5"
      },
      "source": [
        "def get_policy_v_value(model, policy):\n",
        "    ''' policy evaluation'''\n",
        "    return v_policy"
      ],
      "execution_count": null,
      "outputs": []
    },
    {
      "cell_type": "code",
      "metadata": {
        "id": "yZ9votBLfJ3V"
      },
      "source": [
        "def get_policy_from_v_value(model, v_value):\n",
        "    ''' policy improvement'''\n",
        "    return policy"
      ],
      "execution_count": 1,
      "outputs": []
    },
    {
      "cell_type": "code",
      "metadata": {
        "id": "P4QKFUDJfdZf"
      },
      "source": [
        "def policy_iteration(model, initial_policy):\n",
        "    return policy"
      ],
      "execution_count": null,
      "outputs": []
    },
    {
      "cell_type": "code",
      "metadata": {
        "id": "AtEhmfjVfgt5"
      },
      "source": [
        "def value_iteration(model, initial_policy):\n",
        "    return v_best"
      ],
      "execution_count": null,
      "outputs": []
    }
  ]
}