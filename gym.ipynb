{
  "nbformat": 4,
  "nbformat_minor": 0,
  "metadata": {
    "kernelspec": {
      "display_name": "Python 3",
      "language": "python",
      "name": "python3"
    },
    "language_info": {
      "codemirror_mode": {
        "name": "ipython",
        "version": 3
      },
      "file_extension": ".py",
      "mimetype": "text/x-python",
      "name": "python",
      "nbconvert_exporter": "python",
      "pygments_lexer": "ipython3",
      "version": "3.7.3"
    },
    "colab": {
      "name": "gym.ipynb",
      "provenance": [],
      "include_colab_link": true
    }
  },
  "cells": [
    {
      "cell_type": "markdown",
      "metadata": {
        "id": "view-in-github",
        "colab_type": "text"
      },
      "source": [
        "<a href=\"https://colab.research.google.com/github/btlgs2000/mini_degree_Reinforcement_Learning/blob/master/gym.ipynb\" target=\"_parent\"><img src=\"https://colab.research.google.com/assets/colab-badge.svg\" alt=\"Open In Colab\"/></a>"
      ]
    },
    {
      "cell_type": "markdown",
      "metadata": {
        "id": "NNFNrd_Ft2Me"
      },
      "source": [
        "# Gym\n",
        "\n",
        "## Link utili:\n",
        "\n",
        "* Sito OpenAI: https://openai.com/\n",
        "\n",
        "* GitHub OpenAI: https://github.com/openai\n",
        "\n",
        "* Url Gym: https://gym.openai.com/\n",
        "\n",
        "* GitHub Gym: https://github.com/openai/gym\n",
        "\n",
        "* Wiki di Gym: https://github.com/openai/gym/wiki\n"
      ]
    },
    {
      "cell_type": "markdown",
      "metadata": {
        "id": "XjsU4503t2Mf"
      },
      "source": [
        "## Giochiamo a Space Invaders!\n",
        "\n",
        "![img](https://github.com/btlgs2000/mini_degree_Reinforcement_Learning/blob/master/img/space_invaders.png?raw=1)"
      ]
    },
    {
      "cell_type": "code",
      "metadata": {
        "id": "ZHBtrpWpuD0a",
        "outputId": "3f24ba7b-09f3-440a-f593-f3d3d3c25b67",
        "colab": {
          "base_uri": "https://localhost:8080/",
          "height": 671
        }
      },
      "source": [
        "!pip install gym pyvirtualdisplay\n",
        "!apt-get install -y xvfb python-opengl ffmpeg"
      ],
      "execution_count": 1,
      "outputs": [
        {
          "output_type": "stream",
          "text": [
            "Requirement already satisfied: gym in /usr/local/lib/python3.6/dist-packages (0.17.2)\n",
            "Collecting pyvirtualdisplay\n",
            "  Downloading https://files.pythonhosted.org/packages/d0/8a/643043cc70791367bee2d19eb20e00ed1a246ac48e5dbe57bbbcc8be40a9/PyVirtualDisplay-1.3.2-py2.py3-none-any.whl\n",
            "Requirement already satisfied: cloudpickle<1.4.0,>=1.2.0 in /usr/local/lib/python3.6/dist-packages (from gym) (1.3.0)\n",
            "Requirement already satisfied: scipy in /usr/local/lib/python3.6/dist-packages (from gym) (1.4.1)\n",
            "Requirement already satisfied: pyglet<=1.5.0,>=1.4.0 in /usr/local/lib/python3.6/dist-packages (from gym) (1.5.0)\n",
            "Requirement already satisfied: numpy>=1.10.4 in /usr/local/lib/python3.6/dist-packages (from gym) (1.18.5)\n",
            "Collecting EasyProcess\n",
            "  Downloading https://files.pythonhosted.org/packages/48/3c/75573613641c90c6d094059ac28adb748560d99bd27ee6f80cce398f404e/EasyProcess-0.3-py2.py3-none-any.whl\n",
            "Requirement already satisfied: future in /usr/local/lib/python3.6/dist-packages (from pyglet<=1.5.0,>=1.4.0->gym) (0.16.0)\n",
            "Installing collected packages: EasyProcess, pyvirtualdisplay\n",
            "Successfully installed EasyProcess-0.3 pyvirtualdisplay-1.3.2\n",
            "Reading package lists... Done\n",
            "Building dependency tree       \n",
            "Reading state information... Done\n",
            "ffmpeg is already the newest version (7:3.4.8-0ubuntu0.2).\n",
            "Suggested packages:\n",
            "  libgle3\n",
            "The following NEW packages will be installed:\n",
            "  python-opengl xvfb\n",
            "0 upgraded, 2 newly installed, 0 to remove and 6 not upgraded.\n",
            "Need to get 1,280 kB of archives.\n",
            "After this operation, 7,682 kB of additional disk space will be used.\n",
            "Get:1 http://archive.ubuntu.com/ubuntu bionic/universe amd64 python-opengl all 3.1.0+dfsg-1 [496 kB]\n",
            "Get:2 http://archive.ubuntu.com/ubuntu bionic-updates/universe amd64 xvfb amd64 2:1.19.6-1ubuntu4.6 [783 kB]\n",
            "Fetched 1,280 kB in 0s (9,668 kB/s)\n",
            "Selecting previously unselected package python-opengl.\n",
            "(Reading database ... 144617 files and directories currently installed.)\n",
            "Preparing to unpack .../python-opengl_3.1.0+dfsg-1_all.deb ...\n",
            "Unpacking python-opengl (3.1.0+dfsg-1) ...\n",
            "Selecting previously unselected package xvfb.\n",
            "Preparing to unpack .../xvfb_2%3a1.19.6-1ubuntu4.6_amd64.deb ...\n",
            "Unpacking xvfb (2:1.19.6-1ubuntu4.6) ...\n",
            "Setting up python-opengl (3.1.0+dfsg-1) ...\n",
            "Setting up xvfb (2:1.19.6-1ubuntu4.6) ...\n",
            "Processing triggers for man-db (2.8.3-2ubuntu0.1) ...\n"
          ],
          "name": "stdout"
        }
      ]
    },
    {
      "cell_type": "code",
      "metadata": {
        "id": "zXT4K29MuH7m",
        "outputId": "a10ebfba-fccc-4482-c250-02f62bcdbf6e",
        "colab": {
          "base_uri": "https://localhost:8080/",
          "height": 744
        }
      },
      "source": [
        "!apt-get update\n",
        "!apt-get install cmake\n",
        "!pip install --upgrade setuptools\n",
        "!pip install ez_setup"
      ],
      "execution_count": 2,
      "outputs": [
        {
          "output_type": "stream",
          "text": [
            "\r0% [Working]\r            \rGet:1 http://ppa.launchpad.net/c2d4u.team/c2d4u4.0+/ubuntu bionic InRelease [15.9 kB]\n",
            "\r0% [Connecting to archive.ubuntu.com] [Waiting for headers] [Connected to cloud\r                                                                               \rGet:2 http://security.ubuntu.com/ubuntu bionic-security InRelease [88.7 kB]\n",
            "\r0% [Connecting to archive.ubuntu.com] [2 InRelease 0 B/88.7 kB 0%] [Connected t\r0% [Connecting to archive.ubuntu.com] [2 InRelease 88.7 kB/88.7 kB 100%] [Conne\r0% [Connecting to archive.ubuntu.com] [Connected to cloud.r-project.org (54.192\r0% [1 InRelease gpgv 15.9 kB] [Connecting to archive.ubuntu.com] [Connected to \r                                                                               \rHit:3 http://ppa.launchpad.net/graphics-drivers/ppa/ubuntu bionic InRelease\n",
            "\r0% [1 InRelease gpgv 15.9 kB] [Connecting to archive.ubuntu.com] [Connected to \r                                                                               \rHit:4 http://archive.ubuntu.com/ubuntu bionic InRelease\n",
            "\r0% [1 InRelease gpgv 15.9 kB] [Waiting for headers] [Waiting for headers] [Wait\r                                                                               \rGet:5 https://cloud.r-project.org/bin/linux/ubuntu bionic-cran40/ InRelease [3,626 B]\n",
            "\r                                                                               \r0% [1 InRelease gpgv 15.9 kB] [Waiting for headers] [Waiting for headers]\r                                                                         \rGet:6 http://archive.ubuntu.com/ubuntu bionic-updates InRelease [88.7 kB]\n",
            "Get:7 http://archive.ubuntu.com/ubuntu bionic-backports InRelease [74.6 kB]\n",
            "Ign:8 https://developer.download.nvidia.com/compute/cuda/repos/ubuntu1804/x86_64  InRelease\n",
            "Get:9 http://ppa.launchpad.net/c2d4u.team/c2d4u4.0+/ubuntu bionic/main Sources [1,681 kB]\n",
            "Ign:10 https://developer.download.nvidia.com/compute/machine-learning/repos/ubuntu1804/x86_64  InRelease\n",
            "Get:11 https://developer.download.nvidia.com/compute/cuda/repos/ubuntu1804/x86_64  Release [697 B]\n",
            "Hit:12 https://developer.download.nvidia.com/compute/machine-learning/repos/ubuntu1804/x86_64  Release\n",
            "Get:13 https://developer.download.nvidia.com/compute/cuda/repos/ubuntu1804/x86_64  Release.gpg [836 B]\n",
            "Get:14 http://ppa.launchpad.net/c2d4u.team/c2d4u4.0+/ubuntu bionic/main amd64 Packages [860 kB]\n",
            "Get:15 http://security.ubuntu.com/ubuntu bionic-security/universe amd64 Packages [1,341 kB]\n",
            "Get:16 http://security.ubuntu.com/ubuntu bionic-security/main amd64 Packages [1,693 kB]\n",
            "Get:17 https://cloud.r-project.org/bin/linux/ubuntu bionic-cran40/ Packages [39.1 kB]\n",
            "Get:18 http://archive.ubuntu.com/ubuntu bionic-updates/restricted amd64 Packages [220 kB]\n",
            "Get:19 http://archive.ubuntu.com/ubuntu bionic-updates/main amd64 Packages [2,110 kB]\n",
            "Get:20 http://archive.ubuntu.com/ubuntu bionic-updates/multiverse amd64 Packages [45.2 kB]\n",
            "Get:21 http://archive.ubuntu.com/ubuntu bionic-updates/universe amd64 Packages [2,104 kB]\n",
            "Ign:23 https://developer.download.nvidia.com/compute/cuda/repos/ubuntu1804/x86_64  Packages\n",
            "Get:23 https://developer.download.nvidia.com/compute/cuda/repos/ubuntu1804/x86_64  Packages [334 kB]\n",
            "Fetched 10.7 MB in 2s (4,359 kB/s)\n",
            "Reading package lists... Done\n",
            "Reading package lists... Done\n",
            "Building dependency tree       \n",
            "Reading state information... Done\n",
            "cmake is already the newest version (3.10.2-1ubuntu2.18.04.1).\n",
            "0 upgraded, 0 newly installed, 0 to remove and 18 not upgraded.\n",
            "Requirement already up-to-date: setuptools in /usr/local/lib/python3.6/dist-packages (50.3.0)\n",
            "Collecting ez_setup\n",
            "  Downloading https://files.pythonhosted.org/packages/ba/2c/743df41bd6b3298706dfe91b0c7ecdc47f2dc1a3104abeb6e9aa4a45fa5d/ez_setup-0.9.tar.gz\n",
            "Building wheels for collected packages: ez-setup\n",
            "  Building wheel for ez-setup (setup.py) ... \u001b[?25l\u001b[?25hdone\n",
            "  Created wheel for ez-setup: filename=ez_setup-0.9-cp36-none-any.whl size=11016 sha256=ea8718cbb002bbf1bc110c74e8fa78b89150ad3addc257c9454d69638a2c9b03\n",
            "  Stored in directory: /root/.cache/pip/wheels/dc/e8/6b/3d5ff5a3efd7b5338d1e173ac981771e2628ceb2f7866d49ad\n",
            "Successfully built ez-setup\n",
            "Installing collected packages: ez-setup\n",
            "Successfully installed ez-setup-0.9\n"
          ],
          "name": "stdout"
        }
      ]
    },
    {
      "cell_type": "code",
      "metadata": {
        "id": "Y5W-e7bZt2Mj"
      },
      "source": [
        "import gym\n",
        "import time\n",
        "import numpy as np\n",
        "from gym.wrappers import Monitor\n",
        "import random\n",
        "import matplotlib\n",
        "import matplotlib.pyplot as plt\n",
        "%matplotlib inline\n",
        "import math\n",
        "import base64\n",
        "from IPython.display import HTML\n",
        "\n",
        "from IPython import display as ipythondisplay"
      ],
      "execution_count": 3,
      "outputs": []
    },
    {
      "cell_type": "markdown",
      "metadata": {
        "id": "mX87n7Znt2Mv"
      },
      "source": [
        "\n",
        "Creiamo una funzione che **genera episodi** dell'ambiente passato come parametro."
      ]
    },
    {
      "cell_type": "code",
      "metadata": {
        "id": "bCRLbiDgvVog"
      },
      "source": [
        "def show_video(filename):\n",
        "    video = open(mp4, 'r+b').read()\n",
        "    encoded = base64.b64encode(video)\n",
        "    ipythondisplay.display(HTML(data='''<video alt=\"test\" autoplay \n",
        "                loop controls style=\"height: 400px;\">\n",
        "                <source src=\"data:video/mp4;base64,{0}\" type=\"video/mp4\" />\n",
        "            </video>'''.format(encoded.decode('ascii'))))"
      ],
      "execution_count": 4,
      "outputs": []
    },
    {
      "cell_type": "code",
      "metadata": {
        "id": "tQlRECist2My"
      },
      "source": [
        "def generate_episodes(env, sleep_seconds=0, get_action=None, max_steps=float('inf'), num_episodes=1,\n",
        "                   folder, verbosity=0):\n",
        "    '''\n",
        "    Genera episodi di un ambiente gym\n",
        "    \n",
        "    Parametri\n",
        "    ---------\n",
        "    env : un ambiente gym\n",
        "    sleep_seconds : tempo di attesa in secondi tra due frame consecutivi\n",
        "    get_action : una funzione che prende un'osservazione e restituisce un'azione.\n",
        "                 Se None le azioni sono scelte casualmente\n",
        "    max_steps : numero massimo di step dell'episodio. La funziona ritorna quando\n",
        "                l'episodio è terminato o quando si è raggiunmto il numero di step\n",
        "                massimo.\n",
        "    num_episodes : numero di episodi da generare\n",
        "    folder: cartella in cui vengono salvati i video con numerazione progressiva\n",
        "    verbosity : 0, 1, 2. Quante informazioni stampare a video\n",
        "    \n",
        "    Ritorno\n",
        "    -------\n",
        "    Una lista con le lunghezze degli episodi generati\n",
        "    '''\n",
        "\n",
        "    return lenghts"
      ],
      "execution_count": null,
      "outputs": []
    },
    {
      "cell_type": "markdown",
      "metadata": {
        "id": "d8zrWVKMt2M6"
      },
      "source": [
        "Facciamo una partita a **Space Invaders**"
      ]
    },
    {
      "cell_type": "code",
      "metadata": {
        "id": "Q1b_Cdpkxeiw"
      },
      "source": [
        "env = gym.make('SpaceInvaders-v0')"
      ],
      "execution_count": 6,
      "outputs": []
    },
    {
      "cell_type": "code",
      "metadata": {
        "id": "RzHr14wBt2M7",
        "outputId": "2a46822b-9005-4250-eff2-0f80c538b5a4",
        "colab": {
          "base_uri": "https://localhost:8080/",
          "height": 189
        }
      },
      "source": [
        "env = gym.make('SpaceInvaders-v0')\n",
        "generate_episodes(env, sleep_seconds=0.01, verbosity=1)"
      ],
      "execution_count": 5,
      "outputs": [
        {
          "output_type": "error",
          "ename": "NameError",
          "evalue": "ignored",
          "traceback": [
            "\u001b[0;31m---------------------------------------------------------------------------\u001b[0m",
            "\u001b[0;31mNameError\u001b[0m                                 Traceback (most recent call last)",
            "\u001b[0;32m<ipython-input-5-14e30e83cd5b>\u001b[0m in \u001b[0;36m<module>\u001b[0;34m()\u001b[0m\n\u001b[1;32m      1\u001b[0m \u001b[0menv\u001b[0m \u001b[0;34m=\u001b[0m \u001b[0mgym\u001b[0m\u001b[0;34m.\u001b[0m\u001b[0mmake\u001b[0m\u001b[0;34m(\u001b[0m\u001b[0;34m'SpaceInvaders-v0'\u001b[0m\u001b[0;34m)\u001b[0m\u001b[0;34m\u001b[0m\u001b[0;34m\u001b[0m\u001b[0m\n\u001b[0;32m----> 2\u001b[0;31m \u001b[0mgenerate_episodes\u001b[0m\u001b[0;34m(\u001b[0m\u001b[0menv\u001b[0m\u001b[0;34m,\u001b[0m \u001b[0msleep_seconds\u001b[0m\u001b[0;34m=\u001b[0m\u001b[0;36m0.01\u001b[0m\u001b[0;34m,\u001b[0m \u001b[0mverbosity\u001b[0m\u001b[0;34m=\u001b[0m\u001b[0;36m1\u001b[0m\u001b[0;34m)\u001b[0m\u001b[0;34m\u001b[0m\u001b[0;34m\u001b[0m\u001b[0m\n\u001b[0m",
            "\u001b[0;31mNameError\u001b[0m: name 'generate_episodes' is not defined"
          ]
        }
      ]
    },
    {
      "cell_type": "markdown",
      "metadata": {
        "id": "qslISWXIt2NC"
      },
      "source": [
        "Alcune osservazioni:\n",
        "* Nei giochi **Atari** `info` (l'ultimo elemento della tupla ritornata da `step`) comunica quante **vite** sono rimaste.\n",
        "<br><br>\n",
        "* observation è un **array numpy** di dimensioni (210, 160, 3) che rappresenta un frame di gioco. Le prime due dimensioni rappresentano rispettivamente la largezza e l'altezza del frame, la terza i canali RGB.\n",
        "<br><br>\n",
        "* I **missili** sparati dalle astronavi **non sono visibili** in tutti i frame a causa delle **limitazioni hardware** dell'Atari 2600. A riguardo è possibile leggere [questo interssante articolo](https://www.wired.com/2009/03/racing-the-beam)."
      ]
    },
    {
      "cell_type": "markdown",
      "metadata": {
        "id": "n-0zM4CFt2NE"
      },
      "source": [
        "## La classe Env\n",
        "La classe più importante nell'architettura di Gym è `gym.Env`. È una classe astratta da cui ereditano tutti gli ambienti definiti nel package `gym.envs`.\n",
        "<br>\n",
        "I metodi principali della classe `Env` sono:\n",
        "* `step`: esegue un **passo** della simulazione prendendo in input un'azione. Ritorna la tupla (observation, reward, done, info) in cui **observation** è lo stato dell'ambiente dopo l'esecuzione dell'azione, **reward** è la ricompensa ricevuta, **done** vale True se l'episodio è terminato, **info** contiene informazioni ausiliarie.\n",
        "* `reset`: **inizializza** l'ambiente ritornandone il primo stato. Va chiamata **all'inizio** di ogni nuovo episodio.\n",
        "* `render`: ritorna una **rappresentazione grafica** dello stato corrente dell'ambiente. Ha le seguenti opzioni:\n",
        " * `human`: visualizza lo stato all'interno di una finestra.\n",
        " * `rgb_array`: ritorna un **array numpy** di dimensioni (larhezza, altezza, 3) che rappresenta un'immagine dello stato corrente dell'ambiente.\n",
        " * `ansi`: ritorna una **stringa** che rappresenta una visualizzazione adatta ad un **terminale** dello stato corrente.\n",
        "* `close`: esegue operazioni di **pulizia** finale.\n",
        "* `seed`: imposta il seme del generatore di **numeri causali** dell'ambiente.\n",
        "\n",
        "Il modo più semplice per **creare** un ambiente è utilizzare la funzione `gym.make` passandogli l'id dell'ambiente.\n",
        "<br>\n",
        "Si può creare un **nuovo ambiente** creando una classe che **eredita** da `Env` e ridefinendo i suoi metodi."
      ]
    },
    {
      "cell_type": "markdown",
      "metadata": {
        "id": "N3FIOsw6t2NG"
      },
      "source": [
        "## La classe Space\n",
        "\n",
        "Ogni ambiente ha un `action_space` (con le possibili azioni) e un `observation_space` (con i possibili stati) come attributi.\n",
        "Tutti gli **spazi** sono sottoclassi di gym.Space e sono definiti nel package `gym.spaces`.\n",
        "\n",
        "I possibili spazi sono:\n",
        "* `Discrete(n)`: i suoi elementi sono i numeri interi da $0$ a $n-1$.\n",
        "* `Box`: rappresenta uno spazio continuo. Ad esempio lo spazio degli stati dei giochi Atari è di tipo Box(210, 160, 3).\n",
        "* `Multibinary`: tupla di valori binari (0,1).\n",
        "* `Multidiscrete`: Tupla di variabili discrete.\n",
        "* `Tuple`: prodotto cartesiano di spazi.\n",
        "\n",
        "I metodi principali della classe `Space` sono\n",
        "* `contains`: restituisce `True` se gli viene passato un **elemento dello spazio** come parametro.\n",
        "* `sample`: ritorna un elemento **casuale** dello spazio."
      ]
    },
    {
      "cell_type": "markdown",
      "metadata": {
        "id": "LIn78Bs3t2NI"
      },
      "source": [
        "Analizziamo lo spazio delle azioni e lo spazio degli stati di **Space Invaders**."
      ]
    },
    {
      "cell_type": "code",
      "metadata": {
        "id": "MWZgWIAxt2NI"
      },
      "source": [
        "from gym.envs.atari.atari_env import ACTION_MEANING\n",
        "env = gym.make('SpaceInvaders-v0')\n",
        "print(f\"action space = {env.action_space}\")\n",
        "print(f\"observation space = {env.observation_space}\")\n",
        "print(f\"observation space shape = {env.observation_space.shape}\")\n",
        "# azioni possibili e loro descrizione\n",
        "print({k : v for k, v in ACTION_MEANING.items() if k in env.action_space})\n",
        "# gli spazi continui (di tipo Box) ammettono un massimo e un minimo per ogni elemento\n",
        "print(f\"observation space lower limits = {env.observation_space.low}\")\n",
        "print(f\"observation space upper limits = {env.observation_space.high}\")"
      ],
      "execution_count": null,
      "outputs": []
    },
    {
      "cell_type": "markdown",
      "metadata": {
        "id": "xzg5pbCht2NO"
      },
      "source": [
        "### Discrete\n",
        "È composto dai **numeri interi** da $0$ a $n$."
      ]
    },
    {
      "cell_type": "code",
      "metadata": {
        "id": "80_wKARxt2NP"
      },
      "source": [
        "# lo spazio dei numeri interi da 0 a 9\n",
        "discrete = gym.spaces.Discrete(10)\n",
        "print(f\"spazio = {discrete}\")\n",
        "print(f\"n = {discrete.n}\")\n",
        "print(f\"sample = {discrete.sample()}\")\n",
        "print(f\"contiene 10 è {discrete.contains(10)}\")\n",
        "print(f\"contiene 9 è {discrete.contains(9)}\")"
      ],
      "execution_count": null,
      "outputs": []
    },
    {
      "cell_type": "markdown",
      "metadata": {
        "id": "e5olsNlMt2NX"
      },
      "source": [
        "### Box\n",
        "È uno spazio **continuo**."
      ]
    },
    {
      "cell_type": "code",
      "metadata": {
        "id": "hh-fYfUMt2NZ"
      },
      "source": [
        "# spazio degli array numpy 2 x 3 in cui per ogni elemento vengono\n",
        "# specificati i valori minimo e massimo\n",
        "low = np.array([[-1.,-2.,-3.],[-2.,0.,-4.]])\n",
        "hi = np.array([[3.,4.,7.],[1.,10.,4.]])\n",
        "box = gym.spaces.Box(low, hi)\n",
        "print(f\"spazio = {box}\")\n",
        "print(f\"sample = {box.sample()}\")"
      ],
      "execution_count": null,
      "outputs": []
    },
    {
      "cell_type": "markdown",
      "metadata": {
        "id": "z54e2Z4et2Ne"
      },
      "source": [
        "### Multibinary\n",
        "\n",
        "I suoi elementi sono tuple di valori **binari**."
      ]
    },
    {
      "cell_type": "code",
      "metadata": {
        "id": "xsBjIB3Wt2Nf"
      },
      "source": [
        "# spazio delle tuple binarie composte da 5 elementi\n",
        "multi_binary = gym.spaces.MultiBinary(5)\n",
        "multi_binary.sample()"
      ],
      "execution_count": null,
      "outputs": []
    },
    {
      "cell_type": "markdown",
      "metadata": {
        "id": "HBBk3gDrt2Nm"
      },
      "source": [
        "### Multidiscrete\n",
        "\n",
        "* I suoi elementi sono **tuple di interi**"
      ]
    },
    {
      "cell_type": "code",
      "metadata": {
        "id": "dHam0ljht2No"
      },
      "source": [
        "# terne di interi in cui il primo elemento va da 0 a 6, iil secondo da 0 a 8, il terzo da 0 a 2\n",
        "multi_discrete = gym.spaces.MultiDiscrete([7, 9, 3])\n",
        "multi_discrete.sample()"
      ],
      "execution_count": null,
      "outputs": []
    },
    {
      "cell_type": "markdown",
      "metadata": {
        "id": "Dum02PD1t2Nu"
      },
      "source": [
        "### Tupla\n",
        "\n",
        "E' il **prodotto cartesiano** di spazi"
      ]
    },
    {
      "cell_type": "code",
      "metadata": {
        "id": "f6f_H4aqt2Nw"
      },
      "source": [
        "# coppie in cui il primo elemento è di tipo MultiBinary e il secondo di tipo MultiDiscrete\n",
        "tuple_ = gym.spaces.Tuple((gym.spaces.MultiBinary(5), gym.spaces.MultiDiscrete([7, 9, 3])))\n",
        "print(f\"spazio = {tuple_}\")\n",
        "tuple_.sample()"
      ],
      "execution_count": null,
      "outputs": []
    },
    {
      "cell_type": "markdown",
      "metadata": {
        "id": "_aeRYh-Bt2N1"
      },
      "source": [
        "## Ambienti disponibili"
      ]
    },
    {
      "cell_type": "markdown",
      "metadata": {
        "id": "buEstGxWt2N2"
      },
      "source": [
        "Sono registrati nel file `__init__.py` del package `gym/envs`."
      ]
    },
    {
      "cell_type": "code",
      "metadata": {
        "id": "GrYQftAct2N3"
      },
      "source": [
        "envs = gym.envs.registry.env_specs\n",
        "print(envs.keys())"
      ],
      "execution_count": null,
      "outputs": []
    },
    {
      "cell_type": "markdown",
      "metadata": {
        "id": "G84151eSt2N-"
      },
      "source": [
        "### Algorithmic\n",
        "\n",
        "L'agente deve programmare delle **macchine di Turing** ad eseguire semplici compiti, come **copiare una stringa**. Ogni macchina ha un nastro di input e uno di output, che possono essere uni o bi-dimensionali. Ad ogni istante l'agente deve deve:\n",
        "* **spostare la testina** del nastro di input in una delle due (o quattro nel caso bidimensionale) direzioni possibili\n",
        "* decidere se vuole **scrivere o meno** sul nastro di **output**\n",
        "* in caso positivo, **selezionare il carattere**"
      ]
    },
    {
      "cell_type": "code",
      "metadata": {
        "id": "KegUFAiat2N_"
      },
      "source": [
        "generate_episodes(gym.make('Copy-v0'), sleep_seconds=0.1)"
      ],
      "execution_count": null,
      "outputs": []
    },
    {
      "cell_type": "markdown",
      "metadata": {
        "id": "j_uY6W8Dt2OD"
      },
      "source": [
        "## Atari\n",
        "\n",
        "Un **emulatore** dell' [Atari 2600](https://it.wikipedia.org/wiki/Atari_2600) con diversi giochi."
      ]
    },
    {
      "cell_type": "code",
      "metadata": {
        "id": "H81b3XFZt2OF"
      },
      "source": [
        "generate_episodes(gym.make('SpaceInvaders-v0'), sleep_seconds=0.1)"
      ],
      "execution_count": null,
      "outputs": []
    },
    {
      "cell_type": "markdown",
      "metadata": {
        "id": "X62BlGYKt2OL"
      },
      "source": [
        "## Box2D\n",
        "\n",
        "Ambienti che utilizzano la libreria di **fisica bidimensionale** [Box2D](https://box2d.org/)."
      ]
    },
    {
      "cell_type": "code",
      "metadata": {
        "id": "WraDSaXUt2OM"
      },
      "source": [
        "generate_episodes(gym.make('LunarLander-v2'), sleep_seconds=0.1)"
      ],
      "execution_count": null,
      "outputs": []
    },
    {
      "cell_type": "markdown",
      "metadata": {
        "id": "gb0VoSGVt2OQ"
      },
      "source": [
        "## Classic control\n",
        "\n",
        "**Sistemi fisici** estremamente **semplici** come il pendolo, il pendolo doppio e il pendolo inverso (**Cart-Pole**)"
      ]
    },
    {
      "cell_type": "code",
      "metadata": {
        "id": "EcyPtBaAt2OR"
      },
      "source": [
        "generate_episodes(gym.make('CartPole-v0'), sleep_seconds=0.1)"
      ],
      "execution_count": null,
      "outputs": []
    },
    {
      "cell_type": "markdown",
      "metadata": {
        "id": "CW_PwoIjt2OX"
      },
      "source": [
        "## Toy text\n",
        "\n",
        "Semplici ambienti con visualizzazione **testuale**.\n",
        "<br>\n",
        "Nel **Frozen Lake** l'agente deve raggiungere la casella G (Goal) evitando le caselle H (Hole)."
      ]
    },
    {
      "cell_type": "code",
      "metadata": {
        "id": "RQ8SJ9Let2OY"
      },
      "source": [
        "generate_episodes(gym.make('FrozenLake8x8-v0'), sleep_seconds=0.1)"
      ],
      "execution_count": null,
      "outputs": []
    },
    {
      "cell_type": "markdown",
      "metadata": {
        "id": "WLzsyuWDt2Oc"
      },
      "source": [
        "## I wrappers"
      ]
    },
    {
      "cell_type": "markdown",
      "metadata": {
        "id": "1Z2LRP1gt2Oe"
      },
      "source": [
        "Un ambiente può essere creato invocando direttamente il **costruttore** della sua classe, oltre che tramite la funzione `gym.make`."
      ]
    },
    {
      "cell_type": "code",
      "metadata": {
        "id": "dvq1cWWnt2Of"
      },
      "source": [
        "from gym.envs.box2d.bipedal_walker import BipedalWalker\n",
        "env = BipedalWalker()\n",
        "generate_episodes(env, sleep_seconds=0.1, max_steps=50)"
      ],
      "execution_count": null,
      "outputs": []
    },
    {
      "cell_type": "markdown",
      "metadata": {
        "id": "67KNmnBQt2Ok"
      },
      "source": [
        "Il comportamento di un ambiente può essere modificato, o nuove funzionalità possono esseregli aggiunte, utilizzando un oggetto **wrapper** (`gym.core.Wrapper`).\n",
        "<br><br>\n",
        "Possiamo monitorare un addestramento utilizzando il wrapper `Monitor` che salva su disco le **statistiche** e i **video** degli episodi."
      ]
    },
    {
      "cell_type": "code",
      "metadata": {
        "id": "-3oYnFPVt2Ol"
      },
      "source": [
        "from gym.wrappers.monitor import Monitor\n",
        "\n",
        "# salva i file nella sottocartella tmp della cartella corrente\n",
        "env = Monitor(gym.make(\"CartPole-v0\"), directory=\"./tmp\", force=True)\n",
        "generate_episodes(env, sleep_seconds=0, num_episodes=5, verbosity=0)"
      ],
      "execution_count": null,
      "outputs": []
    },
    {
      "cell_type": "markdown",
      "metadata": {
        "id": "pQVXD8aCt2Oq"
      },
      "source": [
        "Possiamo impostare un numero di step dopo i quali **interrompere l'episodio** anche se non è terminato, utilizzando `TimeLimit`."
      ]
    },
    {
      "cell_type": "code",
      "metadata": {
        "id": "8NOMsLt-t2Or"
      },
      "source": [
        "from gym.wrappers.time_limit import TimeLimit\n",
        "\n",
        "env = TimeLimit(BipedalWalker(), max_episode_steps=10)\n",
        "generate_episodes(env, sleep_seconds=0.1, verbosity=0)"
      ],
      "execution_count": null,
      "outputs": []
    },
    {
      "cell_type": "markdown",
      "metadata": {
        "id": "Y5WIwroHt2Ov"
      },
      "source": [
        "Possiamo limitare il **range dei reward** ad un determinato intervallo tramite `ClipReward`."
      ]
    },
    {
      "cell_type": "code",
      "metadata": {
        "id": "y4o36Sxat2Ow"
      },
      "source": [
        "from gym.wrappers.clip_reward import ClipReward\n",
        "\n",
        "# limita a 0.5 il massimo reward\n",
        "rewards = []\n",
        "env = ClipReward(gym.make(\"CartPole-v0\"), min_r=0, max_r=0.5)\n",
        "env.reset()\n",
        "done = False\n",
        "while not done:\n",
        "    env.render()\n",
        "    observation, reward, done, info = env.step(env.action_space.sample())\n",
        "    rewards.append(reward)\n",
        "    time.sleep(0.1)\n",
        "env.close()\n",
        "# nel Cart Pole l'agente ottiene un reward di 1 ad ogni passo.\n",
        "# Dopo il clipping i reward valgono tutti 0.5\n",
        "print(rewards)"
      ],
      "execution_count": null,
      "outputs": []
    },
    {
      "cell_type": "markdown",
      "metadata": {
        "id": "kd6FUYYkt2O0"
      },
      "source": [
        "Ci sono altri wrapper oltre a quelli appena visti (nel package `gym.wrappers`) e naturalmente è possibile crearne di nuovi.\n",
        "<br>\n",
        "È inoltre possibile **comporre** più wrapper.\n",
        "<br>\n",
        "Possiamo ad esempio imporre **contemporaneamente** un limite alla **lunghezza** degli episodi e al **range** dei reward."
      ]
    },
    {
      "cell_type": "code",
      "metadata": {
        "id": "fX9zyLQFt2O1"
      },
      "source": [
        "env = TimeLimit(ClipReward(BipedalWalker(), min_r=0, max_r=0.5), max_episode_steps=10)"
      ],
      "execution_count": null,
      "outputs": []
    },
    {
      "cell_type": "markdown",
      "metadata": {
        "id": "iTiLBpoMt2O6"
      },
      "source": [
        "Ogni wrapper espone l'ambiente (o il wrapper) **precedente** con l'attributo `env` e l'ambiente **originario** con l'attributo `unwrapped`."
      ]
    },
    {
      "cell_type": "code",
      "metadata": {
        "id": "83U5-Y91t2O7"
      },
      "source": [
        "print(env)\n",
        "print(env.env)\n",
        "print(env.unwrapped)\n",
        "# come env.unwrapped\n",
        "print(env.env.env)"
      ],
      "execution_count": null,
      "outputs": []
    },
    {
      "cell_type": "markdown",
      "metadata": {
        "id": "-4aAFnhrt2PA"
      },
      "source": [
        "## Gli ambienti registrati"
      ]
    },
    {
      "cell_type": "markdown",
      "metadata": {
        "id": "kASePhwmt2PA"
      },
      "source": [
        "Possiamo vedere quali sono gli ambienti registrati consultando il **registro globale**."
      ]
    },
    {
      "cell_type": "code",
      "metadata": {
        "id": "n_1mLoPct2PB"
      },
      "source": [
        "sorted([spec for spec in gym.envs.registry.env_specs])"
      ],
      "execution_count": null,
      "outputs": []
    },
    {
      "cell_type": "markdown",
      "metadata": {
        "id": "PbQLsYFSt2PJ"
      },
      "source": [
        "Un ambiente registrato viene creato tramite la funzione `gym.make`."
      ]
    },
    {
      "cell_type": "code",
      "metadata": {
        "id": "G3432sl2t2PL"
      },
      "source": [
        "cartpole_v0 = gym.make(\"CartPole-v0\")"
      ],
      "execution_count": null,
      "outputs": []
    },
    {
      "cell_type": "markdown",
      "metadata": {
        "id": "rscm4-VZt2PO"
      },
      "source": [
        "Gli ambienti registrati sono gli ambienti **ufficiali** su cui possiamo testare i nostri algortimi e **confrontarli** con quelli degli altri.  [Questa pagina](https://github.com/openai/gym/wiki/Leaderboard) ospita la **classifica** dei migliori algoritmi (in termini di numero di episodi necessari a superare la sfida). Studiarli è un otimo modo per accrescere le proprie competenze di Reinforcement Learning.\n",
        "<br><br>\n",
        "Ad ogni ambiente registrato corrispondono delle **specifiche** (un ogetto della classe `EnvSpec`) accessibili tramite l'attrivuto `spec`.\n",
        "<br><br>\n",
        "Il **CartPole** è presente con le versioni 0 e 1. Nella prima ogni episodio ha una durata massimo di 200 passi (ottenuta con il wrapper TimeLimit). Il compito è considerato **risolto** quando gli ultimi 100 episodi hanno una durata media di almeno 195 passi."
      ]
    },
    {
      "cell_type": "code",
      "metadata": {
        "scrolled": true,
        "id": "2b9Ke_Clt2PP"
      },
      "source": [
        "print(\"soglia = {}, massimo numero di passi per episodio = {}\".format(cartpole_v0.spec.reward_threshold, \n",
        "                                                                      cartpole_v0.spec.max_episode_steps))"
      ],
      "execution_count": null,
      "outputs": []
    },
    {
      "cell_type": "markdown",
      "metadata": {
        "id": "LUjSgSXSt2PW"
      },
      "source": [
        "## Un algoritmo per il pendolo inverso"
      ]
    },
    {
      "cell_type": "markdown",
      "metadata": {
        "id": "4HpVF5mUt2PW"
      },
      "source": [
        "In questa sezione ti proponiamo una piccola **sfida**: ideare un algoritmo che risolva il problema del **Cart Pole**.\n",
        "<br>\n",
        "Il Cart Pole è un semplice sistema fisico costituito da un'**asta** imperniata ad un **carrello**, libera di ruotare. È completamente descritto da **quattro parametri**: la posizione del carrello, la sua velocità, l'angolo dell'asta, la sua velocità angolare. L'obiettivo è di tenere **l'asta in equilibrio** senza allontanare troopo il carrello dalla posizione centrale."
      ]
    },
    {
      "cell_type": "markdown",
      "metadata": {
        "id": "BskKIJzmt2PX"
      },
      "source": [
        "Un'occhiata alla **documentazione** della classe `CartPoleEnv` potrebbe esserti utile."
      ]
    },
    {
      "cell_type": "code",
      "metadata": {
        "id": "yev8RRAVt2PZ"
      },
      "source": [
        "print(gym.envs.classic_control.CartPoleEnv.__doc__)"
      ],
      "execution_count": null,
      "outputs": []
    },
    {
      "cell_type": "markdown",
      "metadata": {
        "id": "AaTIj4yWt2Pc"
      },
      "source": [
        "La funzione `get_action` prende in input uno **stato** e restituisce un'**azione** (per ora scelta a caso). Ti chiediamo di implementarla in modo tale da raggiungere l'obiettivo di una durata media di almeno **195 passi** sui 200 massimi, clacolata su 100 episodi."
      ]
    },
    {
      "cell_type": "code",
      "metadata": {
        "id": "hIotmEm2t2Pd"
      },
      "source": [
        "def get_action(observation):\n",
        "    import random\n",
        "    return random.choice([0, 1])"
      ],
      "execution_count": null,
      "outputs": []
    },
    {
      "cell_type": "code",
      "metadata": {
        "id": "ideOV4yTt2Pf"
      },
      "source": [
        "env = gym.make(\"CartPole-v0\")\n",
        "lenghts = generate_episodes(env, get_action=get_action, num_episodes=100)\n",
        "\n",
        "if np.mean(lenghts) >= 195:\n",
        "    print(\"Bravo, hai superato la prova!\")\n",
        "else:\n",
        "    print(f\"La lunghezza media dei 100 episodi è stata di {np.mean(lenghts)}. Devi migliorare!\")"
      ],
      "execution_count": null,
      "outputs": []
    }
  ]
}